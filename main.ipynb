{
 "cells": [
  {
   "cell_type": "markdown",
   "metadata": {},
   "source": [
    "# Import Library"
   ]
  },
  {
   "cell_type": "code",
   "execution_count": 1,
   "metadata": {},
   "outputs": [],
   "source": [
    "import numpy as np\n",
    "import pandas as pd\n",
    "from sklearn.model_selection import train_test_split\n",
    "from sklearn.metrics import classification_report\n",
    "from sklearn.metrics import confusion_matrix\n",
    "from sklearn.preprocessing import LabelEncoder\n",
    "from sklearn import preprocessing\n",
    "import seaborn as sns\n",
    "import matplotlib.pyplot as plt"
   ]
  },
  {
   "cell_type": "markdown",
   "metadata": {},
   "source": [
    "# Read Data"
   ]
  },
  {
   "cell_type": "code",
   "execution_count": 2,
   "metadata": {},
   "outputs": [
    {
     "data": {
      "text/html": [
       "<div>\n",
       "<style scoped>\n",
       "    .dataframe tbody tr th:only-of-type {\n",
       "        vertical-align: middle;\n",
       "    }\n",
       "\n",
       "    .dataframe tbody tr th {\n",
       "        vertical-align: top;\n",
       "    }\n",
       "\n",
       "    .dataframe thead th {\n",
       "        text-align: right;\n",
       "    }\n",
       "</style>\n",
       "<table border=\"1\" class=\"dataframe\">\n",
       "  <thead>\n",
       "    <tr style=\"text-align: right;\">\n",
       "      <th></th>\n",
       "      <th>tanggal</th>\n",
       "      <th>pm10</th>\n",
       "      <th>pm25</th>\n",
       "      <th>so2</th>\n",
       "      <th>co</th>\n",
       "      <th>o3</th>\n",
       "      <th>no2</th>\n",
       "      <th>max</th>\n",
       "      <th>critical</th>\n",
       "      <th>categori</th>\n",
       "      <th>location</th>\n",
       "    </tr>\n",
       "  </thead>\n",
       "  <tbody>\n",
       "    <tr>\n",
       "      <th>0</th>\n",
       "      <td>1/1/2021</td>\n",
       "      <td>43</td>\n",
       "      <td>NaN</td>\n",
       "      <td>58</td>\n",
       "      <td>29</td>\n",
       "      <td>35</td>\n",
       "      <td>65</td>\n",
       "      <td>65</td>\n",
       "      <td>O3</td>\n",
       "      <td>SEDANG</td>\n",
       "      <td>DKI2</td>\n",
       "    </tr>\n",
       "    <tr>\n",
       "      <th>1</th>\n",
       "      <td>1/2/2021</td>\n",
       "      <td>58</td>\n",
       "      <td>NaN</td>\n",
       "      <td>86</td>\n",
       "      <td>38</td>\n",
       "      <td>64</td>\n",
       "      <td>80</td>\n",
       "      <td>86</td>\n",
       "      <td>PM25</td>\n",
       "      <td>SEDANG</td>\n",
       "      <td>DKI3</td>\n",
       "    </tr>\n",
       "    <tr>\n",
       "      <th>2</th>\n",
       "      <td>1/3/2021</td>\n",
       "      <td>64</td>\n",
       "      <td>NaN</td>\n",
       "      <td>93</td>\n",
       "      <td>25</td>\n",
       "      <td>62</td>\n",
       "      <td>86</td>\n",
       "      <td>93</td>\n",
       "      <td>PM25</td>\n",
       "      <td>SEDANG</td>\n",
       "      <td>DKI3</td>\n",
       "    </tr>\n",
       "    <tr>\n",
       "      <th>3</th>\n",
       "      <td>1/4/2021</td>\n",
       "      <td>50</td>\n",
       "      <td>NaN</td>\n",
       "      <td>67</td>\n",
       "      <td>24</td>\n",
       "      <td>31</td>\n",
       "      <td>77</td>\n",
       "      <td>77</td>\n",
       "      <td>O3</td>\n",
       "      <td>SEDANG</td>\n",
       "      <td>DKI2</td>\n",
       "    </tr>\n",
       "    <tr>\n",
       "      <th>4</th>\n",
       "      <td>1/5/2021</td>\n",
       "      <td>59</td>\n",
       "      <td>NaN</td>\n",
       "      <td>89</td>\n",
       "      <td>24</td>\n",
       "      <td>35</td>\n",
       "      <td>77</td>\n",
       "      <td>89</td>\n",
       "      <td>PM25</td>\n",
       "      <td>SEDANG</td>\n",
       "      <td>DKI3</td>\n",
       "    </tr>\n",
       "  </tbody>\n",
       "</table>\n",
       "</div>"
      ],
      "text/plain": [
       "    tanggal  pm10  pm25  so2  co  o3  no2  max critical categori location\n",
       "0  1/1/2021    43   NaN   58  29  35   65   65       O3   SEDANG     DKI2\n",
       "1  1/2/2021    58   NaN   86  38  64   80   86     PM25   SEDANG     DKI3\n",
       "2  1/3/2021    64   NaN   93  25  62   86   93     PM25   SEDANG     DKI3\n",
       "3  1/4/2021    50   NaN   67  24  31   77   77       O3   SEDANG     DKI2\n",
       "4  1/5/2021    59   NaN   89  24  35   77   89     PM25   SEDANG     DKI3"
      ]
     },
     "execution_count": 2,
     "metadata": {},
     "output_type": "execute_result"
    }
   ],
   "source": [
    "data = pd.read_csv('./Indeks Standar Pencemar Udara di Provinsi DKI Jakarta 2021.csv')\n",
    "data.head()"
   ]
  },
  {
   "cell_type": "markdown",
   "metadata": {},
   "source": [
    "# Memfilter Data"
   ]
  },
  {
   "cell_type": "code",
   "execution_count": 3,
   "metadata": {},
   "outputs": [
    {
     "data": {
      "text/html": [
       "<div>\n",
       "<style scoped>\n",
       "    .dataframe tbody tr th:only-of-type {\n",
       "        vertical-align: middle;\n",
       "    }\n",
       "\n",
       "    .dataframe tbody tr th {\n",
       "        vertical-align: top;\n",
       "    }\n",
       "\n",
       "    .dataframe thead th {\n",
       "        text-align: right;\n",
       "    }\n",
       "</style>\n",
       "<table border=\"1\" class=\"dataframe\">\n",
       "  <thead>\n",
       "    <tr style=\"text-align: right;\">\n",
       "      <th></th>\n",
       "      <th>pm10</th>\n",
       "      <th>pm25</th>\n",
       "      <th>so2</th>\n",
       "      <th>co</th>\n",
       "      <th>o3</th>\n",
       "      <th>no2</th>\n",
       "      <th>categori</th>\n",
       "    </tr>\n",
       "  </thead>\n",
       "  <tbody>\n",
       "    <tr>\n",
       "      <th>0</th>\n",
       "      <td>43</td>\n",
       "      <td>NaN</td>\n",
       "      <td>58</td>\n",
       "      <td>29</td>\n",
       "      <td>35</td>\n",
       "      <td>65</td>\n",
       "      <td>SEDANG</td>\n",
       "    </tr>\n",
       "    <tr>\n",
       "      <th>1</th>\n",
       "      <td>58</td>\n",
       "      <td>NaN</td>\n",
       "      <td>86</td>\n",
       "      <td>38</td>\n",
       "      <td>64</td>\n",
       "      <td>80</td>\n",
       "      <td>SEDANG</td>\n",
       "    </tr>\n",
       "    <tr>\n",
       "      <th>2</th>\n",
       "      <td>64</td>\n",
       "      <td>NaN</td>\n",
       "      <td>93</td>\n",
       "      <td>25</td>\n",
       "      <td>62</td>\n",
       "      <td>86</td>\n",
       "      <td>SEDANG</td>\n",
       "    </tr>\n",
       "    <tr>\n",
       "      <th>3</th>\n",
       "      <td>50</td>\n",
       "      <td>NaN</td>\n",
       "      <td>67</td>\n",
       "      <td>24</td>\n",
       "      <td>31</td>\n",
       "      <td>77</td>\n",
       "      <td>SEDANG</td>\n",
       "    </tr>\n",
       "    <tr>\n",
       "      <th>4</th>\n",
       "      <td>59</td>\n",
       "      <td>NaN</td>\n",
       "      <td>89</td>\n",
       "      <td>24</td>\n",
       "      <td>35</td>\n",
       "      <td>77</td>\n",
       "      <td>SEDANG</td>\n",
       "    </tr>\n",
       "    <tr>\n",
       "      <th>...</th>\n",
       "      <td>...</td>\n",
       "      <td>...</td>\n",
       "      <td>...</td>\n",
       "      <td>...</td>\n",
       "      <td>...</td>\n",
       "      <td>...</td>\n",
       "      <td>...</td>\n",
       "    </tr>\n",
       "    <tr>\n",
       "      <th>360</th>\n",
       "      <td>75</td>\n",
       "      <td>121.0</td>\n",
       "      <td>61</td>\n",
       "      <td>23</td>\n",
       "      <td>40</td>\n",
       "      <td>47</td>\n",
       "      <td>TIDAK SEHAT</td>\n",
       "    </tr>\n",
       "    <tr>\n",
       "      <th>361</th>\n",
       "      <td>59</td>\n",
       "      <td>89.0</td>\n",
       "      <td>53</td>\n",
       "      <td>16</td>\n",
       "      <td>34</td>\n",
       "      <td>33</td>\n",
       "      <td>SEDANG</td>\n",
       "    </tr>\n",
       "    <tr>\n",
       "      <th>362</th>\n",
       "      <td>61</td>\n",
       "      <td>98.0</td>\n",
       "      <td>54</td>\n",
       "      <td>15</td>\n",
       "      <td>37</td>\n",
       "      <td>29</td>\n",
       "      <td>SEDANG</td>\n",
       "    </tr>\n",
       "    <tr>\n",
       "      <th>363</th>\n",
       "      <td>60</td>\n",
       "      <td>102.0</td>\n",
       "      <td>53</td>\n",
       "      <td>17</td>\n",
       "      <td>38</td>\n",
       "      <td>44</td>\n",
       "      <td>TIDAK SEHAT</td>\n",
       "    </tr>\n",
       "    <tr>\n",
       "      <th>364</th>\n",
       "      <td>64</td>\n",
       "      <td>90.0</td>\n",
       "      <td>52</td>\n",
       "      <td>44</td>\n",
       "      <td>37</td>\n",
       "      <td>53</td>\n",
       "      <td>SEDANG</td>\n",
       "    </tr>\n",
       "  </tbody>\n",
       "</table>\n",
       "<p>365 rows × 7 columns</p>\n",
       "</div>"
      ],
      "text/plain": [
       "     pm10   pm25  so2  co  o3  no2     categori\n",
       "0      43    NaN   58  29  35   65       SEDANG\n",
       "1      58    NaN   86  38  64   80       SEDANG\n",
       "2      64    NaN   93  25  62   86       SEDANG\n",
       "3      50    NaN   67  24  31   77       SEDANG\n",
       "4      59    NaN   89  24  35   77       SEDANG\n",
       "..    ...    ...  ...  ..  ..  ...          ...\n",
       "360    75  121.0   61  23  40   47  TIDAK SEHAT\n",
       "361    59   89.0   53  16  34   33       SEDANG\n",
       "362    61   98.0   54  15  37   29       SEDANG\n",
       "363    60  102.0   53  17  38   44  TIDAK SEHAT\n",
       "364    64   90.0   52  44  37   53       SEDANG\n",
       "\n",
       "[365 rows x 7 columns]"
      ]
     },
     "execution_count": 3,
     "metadata": {},
     "output_type": "execute_result"
    }
   ],
   "source": [
    "data1 = pd.DataFrame(data,columns=['pm10','pm25','so2','co','o3','no2','categori'])\n",
    "data1"
   ]
  },
  {
   "cell_type": "code",
   "execution_count": 4,
   "metadata": {},
   "outputs": [
    {
     "data": {
      "text/plain": [
       "pm10         0\n",
       "pm25        31\n",
       "so2          0\n",
       "co           0\n",
       "o3           0\n",
       "no2          0\n",
       "categori     0\n",
       "dtype: int64"
      ]
     },
     "execution_count": 4,
     "metadata": {},
     "output_type": "execute_result"
    }
   ],
   "source": [
    "data1.isna().sum()"
   ]
  },
  {
   "cell_type": "code",
   "execution_count": 5,
   "metadata": {},
   "outputs": [
    {
     "name": "stdout",
     "output_type": "stream",
     "text": [
      "<class 'pandas.core.frame.DataFrame'>\n",
      "RangeIndex: 365 entries, 0 to 364\n",
      "Data columns (total 7 columns):\n",
      " #   Column    Non-Null Count  Dtype  \n",
      "---  ------    --------------  -----  \n",
      " 0   pm10      365 non-null    int64  \n",
      " 1   pm25      365 non-null    float64\n",
      " 2   so2       365 non-null    int64  \n",
      " 3   co        365 non-null    int64  \n",
      " 4   o3        365 non-null    int64  \n",
      " 5   no2       365 non-null    int64  \n",
      " 6   categori  365 non-null    object \n",
      "dtypes: float64(1), int64(5), object(1)\n",
      "memory usage: 20.1+ KB\n"
     ]
    }
   ],
   "source": [
    "data1['pm25'].fillna(data1['pm25'].mean(), inplace=True)\n",
    "data1.info()"
   ]
  },
  {
   "cell_type": "code",
   "execution_count": 6,
   "metadata": {},
   "outputs": [
    {
     "data": {
      "text/html": [
       "<div>\n",
       "<style scoped>\n",
       "    .dataframe tbody tr th:only-of-type {\n",
       "        vertical-align: middle;\n",
       "    }\n",
       "\n",
       "    .dataframe tbody tr th {\n",
       "        vertical-align: top;\n",
       "    }\n",
       "\n",
       "    .dataframe thead th {\n",
       "        text-align: right;\n",
       "    }\n",
       "</style>\n",
       "<table border=\"1\" class=\"dataframe\">\n",
       "  <thead>\n",
       "    <tr style=\"text-align: right;\">\n",
       "      <th></th>\n",
       "      <th>pm10</th>\n",
       "      <th>pm25</th>\n",
       "      <th>so2</th>\n",
       "      <th>co</th>\n",
       "      <th>o3</th>\n",
       "      <th>no2</th>\n",
       "      <th>categori</th>\n",
       "    </tr>\n",
       "  </thead>\n",
       "  <tbody>\n",
       "    <tr>\n",
       "      <th>0</th>\n",
       "      <td>43</td>\n",
       "      <td>94.694611</td>\n",
       "      <td>58</td>\n",
       "      <td>29</td>\n",
       "      <td>35</td>\n",
       "      <td>65</td>\n",
       "      <td>1</td>\n",
       "    </tr>\n",
       "    <tr>\n",
       "      <th>1</th>\n",
       "      <td>58</td>\n",
       "      <td>94.694611</td>\n",
       "      <td>86</td>\n",
       "      <td>38</td>\n",
       "      <td>64</td>\n",
       "      <td>80</td>\n",
       "      <td>1</td>\n",
       "    </tr>\n",
       "    <tr>\n",
       "      <th>2</th>\n",
       "      <td>64</td>\n",
       "      <td>94.694611</td>\n",
       "      <td>93</td>\n",
       "      <td>25</td>\n",
       "      <td>62</td>\n",
       "      <td>86</td>\n",
       "      <td>1</td>\n",
       "    </tr>\n",
       "    <tr>\n",
       "      <th>3</th>\n",
       "      <td>50</td>\n",
       "      <td>94.694611</td>\n",
       "      <td>67</td>\n",
       "      <td>24</td>\n",
       "      <td>31</td>\n",
       "      <td>77</td>\n",
       "      <td>1</td>\n",
       "    </tr>\n",
       "    <tr>\n",
       "      <th>4</th>\n",
       "      <td>59</td>\n",
       "      <td>94.694611</td>\n",
       "      <td>89</td>\n",
       "      <td>24</td>\n",
       "      <td>35</td>\n",
       "      <td>77</td>\n",
       "      <td>1</td>\n",
       "    </tr>\n",
       "    <tr>\n",
       "      <th>...</th>\n",
       "      <td>...</td>\n",
       "      <td>...</td>\n",
       "      <td>...</td>\n",
       "      <td>...</td>\n",
       "      <td>...</td>\n",
       "      <td>...</td>\n",
       "      <td>...</td>\n",
       "    </tr>\n",
       "    <tr>\n",
       "      <th>360</th>\n",
       "      <td>75</td>\n",
       "      <td>121.000000</td>\n",
       "      <td>61</td>\n",
       "      <td>23</td>\n",
       "      <td>40</td>\n",
       "      <td>47</td>\n",
       "      <td>2</td>\n",
       "    </tr>\n",
       "    <tr>\n",
       "      <th>361</th>\n",
       "      <td>59</td>\n",
       "      <td>89.000000</td>\n",
       "      <td>53</td>\n",
       "      <td>16</td>\n",
       "      <td>34</td>\n",
       "      <td>33</td>\n",
       "      <td>1</td>\n",
       "    </tr>\n",
       "    <tr>\n",
       "      <th>362</th>\n",
       "      <td>61</td>\n",
       "      <td>98.000000</td>\n",
       "      <td>54</td>\n",
       "      <td>15</td>\n",
       "      <td>37</td>\n",
       "      <td>29</td>\n",
       "      <td>1</td>\n",
       "    </tr>\n",
       "    <tr>\n",
       "      <th>363</th>\n",
       "      <td>60</td>\n",
       "      <td>102.000000</td>\n",
       "      <td>53</td>\n",
       "      <td>17</td>\n",
       "      <td>38</td>\n",
       "      <td>44</td>\n",
       "      <td>2</td>\n",
       "    </tr>\n",
       "    <tr>\n",
       "      <th>364</th>\n",
       "      <td>64</td>\n",
       "      <td>90.000000</td>\n",
       "      <td>52</td>\n",
       "      <td>44</td>\n",
       "      <td>37</td>\n",
       "      <td>53</td>\n",
       "      <td>1</td>\n",
       "    </tr>\n",
       "  </tbody>\n",
       "</table>\n",
       "<p>365 rows × 7 columns</p>\n",
       "</div>"
      ],
      "text/plain": [
       "     pm10        pm25  so2  co  o3  no2  categori\n",
       "0      43   94.694611   58  29  35   65         1\n",
       "1      58   94.694611   86  38  64   80         1\n",
       "2      64   94.694611   93  25  62   86         1\n",
       "3      50   94.694611   67  24  31   77         1\n",
       "4      59   94.694611   89  24  35   77         1\n",
       "..    ...         ...  ...  ..  ..  ...       ...\n",
       "360    75  121.000000   61  23  40   47         2\n",
       "361    59   89.000000   53  16  34   33         1\n",
       "362    61   98.000000   54  15  37   29         1\n",
       "363    60  102.000000   53  17  38   44         2\n",
       "364    64   90.000000   52  44  37   53         1\n",
       "\n",
       "[365 rows x 7 columns]"
      ]
     },
     "execution_count": 6,
     "metadata": {},
     "output_type": "execute_result"
    }
   ],
   "source": [
    "data2 = data1\n",
    "le = LabelEncoder()\n",
    "data2.categori = le.fit_transform(data2.categori)\n",
    "data2\n"
   ]
  },
  {
   "cell_type": "code",
   "execution_count": 7,
   "metadata": {},
   "outputs": [],
   "source": [
    "X=data2.iloc[:,0:5].values\n",
    "y=data2.iloc[:,-1].values"
   ]
  },
  {
   "cell_type": "code",
   "execution_count": 8,
   "metadata": {},
   "outputs": [
    {
     "name": "stdout",
     "output_type": "stream",
     "text": [
      "[[0.15       0.43755043 0.23595506 0.55       0.11450382]\n",
      " [0.24375    0.43755043 0.5505618  0.775      0.33587786]\n",
      " [0.28125    0.43755043 0.62921348 0.45       0.32061069]\n",
      " ...\n",
      " [0.2625     0.46099291 0.19101124 0.2        0.12977099]\n",
      " [0.25625    0.4893617  0.17977528 0.25       0.13740458]\n",
      " [0.28125    0.40425532 0.16853933 0.925      0.12977099]]\n"
     ]
    }
   ],
   "source": [
    "# cols = X.columns\n",
    "\n",
    "scaled_data = X\n",
    "preprocessor = preprocessing.MinMaxScaler(feature_range=(0,1))\n",
    "scaled_data = preprocessor.fit_transform(scaled_data)\n",
    "print(scaled_data)"
   ]
  },
  {
   "cell_type": "code",
   "execution_count": 9,
   "metadata": {},
   "outputs": [],
   "source": [
    "X_train, X_test, y_train, y_test = train_test_split(scaled_data, y, test_size=0.4, random_state=24)"
   ]
  },
  {
   "cell_type": "markdown",
   "metadata": {},
   "source": [
    "## Data Training"
   ]
  },
  {
   "cell_type": "code",
   "execution_count": 10,
   "metadata": {},
   "outputs": [
    {
     "name": "stdout",
     "output_type": "stream",
     "text": [
      "[[0.16875    0.23404255 0.1011236  0.05       0.3129771 ]\n",
      " [0.35       0.67375887 0.16853933 0.425      0.23664122]\n",
      " [0.36875    0.73049645 0.06741573 0.325      0.10687023]\n",
      " ...\n",
      " [0.26875    0.42553191 0.16853933 0.125      0.33587786]\n",
      " [0.2        0.28368794 0.11235955 0.175      0.16030534]\n",
      " [0.28125    0.18439716 0.16853933 0.05       0.18320611]]\n"
     ]
    }
   ],
   "source": [
    "print(X_train)"
   ]
  },
  {
   "cell_type": "code",
   "execution_count": 11,
   "metadata": {},
   "outputs": [
    {
     "name": "stdout",
     "output_type": "stream",
     "text": [
      "[1 2 2 1 1 1 1 1 1 1 1 1 2 1 2 2 1 1 2 1 2 2 1 1 2 1 1 1 2 1 2 1 1 2 1 1 1\n",
      " 1 2 1 1 1 1 2 1 1 1 1 1 2 1 2 2 2 2 1 2 1 1 0 2 1 2 1 1 2 2 2 1 2 1 2 1 2\n",
      " 1 1 1 1 1 1 1 2 1 2 2 1 1 1 2 1 1 2 1 1 2 1 1 2 2 1 1 2 1 1 1 1 1 2 2 1 1\n",
      " 2 1 1 1 2 2 1 1 1 1 1 1 1 1 1 2 2 2 1 2 2 1 1 1 1 2 2 2 1 1 2 1 1 1 1 2 1\n",
      " 1 2 2 2 1 2 2 2 1 1 0 1 1 2 2 1 2 2 2 1 1 1 2 1 2 1 1 2 2 2 2 1 1 2 2 1 1\n",
      " 1 1 1 2 1 2 2 2 2 1 2 1 1 1 1 2 1 2 1 2 1 2 1 2 1 1 1 2 2 1 1 1 1 1]\n"
     ]
    }
   ],
   "source": [
    "print(y_train)"
   ]
  },
  {
   "cell_type": "markdown",
   "metadata": {},
   "source": [
    "## Data Testing"
   ]
  },
  {
   "cell_type": "code",
   "execution_count": 12,
   "metadata": {},
   "outputs": [
    {
     "data": {
      "text/plain": [
       "array([[0.21875   , 0.31914894, 0.33707865, 0.225     , 0.27480916],\n",
       "       [0.15      , 0.21276596, 0.03370787, 0.1       , 0.16793893],\n",
       "       [0.3375    , 0.44680851, 0.05617978, 0.175     , 0.29770992],\n",
       "       [0.05625   , 0.13475177, 0.04494382, 0.1       , 0.17557252],\n",
       "       [0.10625   , 0.19858156, 0.14606742, 0.025     , 0.20610687],\n",
       "       [0.26875   , 0.54609929, 0.25842697, 0.1       , 0.33587786],\n",
       "       [0.21875   , 0.41843972, 0.14606742, 0.05      , 0.24427481],\n",
       "       [0.21875   , 0.29787234, 0.20224719, 0.1       , 0.23664122],\n",
       "       [0.2125    , 0.29078014, 0.26966292, 0.1       , 0.28244275],\n",
       "       [0.26875   , 0.40425532, 0.30337079, 0.2       , 0.22900763],\n",
       "       [0.25      , 0.30496454, 0.05617978, 0.2       , 0.26717557],\n",
       "       [0.28125   , 0.59574468, 0.16853933, 0.1       , 0.29770992],\n",
       "       [0.30625   , 0.4893617 , 0.15730337, 0.075     , 0.26717557],\n",
       "       [0.225     , 0.39716312, 0.11235955, 0.15      , 0.2519084 ],\n",
       "       [0.29375   , 0.42553191, 0.17977528, 0.125     , 0.32824427],\n",
       "       [0.3875    , 0.60283688, 0.04494382, 0.225     , 0.23664122],\n",
       "       [0.29375   , 0.4751773 , 0.12359551, 0.15      , 0.42748092],\n",
       "       [0.34375   , 0.58865248, 0.20224719, 0.25      , 0.29007634],\n",
       "       [0.21875   , 0.43755043, 0.08988764, 0.25      , 0.09923664],\n",
       "       [0.2375    , 0.43755043, 0.47191011, 0.675     , 0.14503817],\n",
       "       [0.36875   , 0.65248227, 0.08988764, 0.225     , 0.41221374],\n",
       "       [0.16875   , 0.43755043, 0.02247191, 0.45      , 0.09160305],\n",
       "       [0.3375    , 0.65957447, 0.01123596, 0.475     , 0.19847328],\n",
       "       [0.2125    , 0.26241135, 0.07865169, 0.15      , 0.16030534],\n",
       "       [0.30625   , 0.56737589, 0.25842697, 0.25      , 0.32061069],\n",
       "       [0.39375   , 0.79432624, 0.17977528, 0.275     , 0.15267176],\n",
       "       [0.2375    , 0.37588652, 0.05617978, 0.15      , 0.29007634],\n",
       "       [0.325     , 0.43971631, 0.24719101, 0.45      , 0.24427481],\n",
       "       [0.3875    , 0.58156028, 0.13483146, 0.175     , 0.21374046],\n",
       "       [0.275     , 0.5035461 , 0.16853933, 0.075     , 0.29770992],\n",
       "       [0.25625   , 0.46099291, 0.30337079, 0.1       , 0.25954198],\n",
       "       [0.2625    , 0.4893617 , 0.14606742, 0.125     , 0.29770992],\n",
       "       [0.34375   , 0.71631206, 0.20224719, 0.075     , 0.29007634],\n",
       "       [0.0875    , 0.15602837, 0.03370787, 0.075     , 0.28244275],\n",
       "       [0.34375   , 0.61702128, 0.16853933, 0.125     , 0.1221374 ],\n",
       "       [0.275     , 0.4751773 , 0.14606742, 0.275     , 0.34351145],\n",
       "       [0.3       , 0.39007092, 0.20224719, 0.5       , 0.22900763],\n",
       "       [0.25625   , 0.32624113, 0.16853933, 0.075     , 0.32061069],\n",
       "       [0.25      , 0.35460993, 0.1011236 , 0.35      , 0.22900763],\n",
       "       [0.3375    , 0.61702128, 0.50561798, 0.275     , 0.19847328],\n",
       "       [0.4       , 0.79432624, 0.21348315, 0.1       , 0.22900763],\n",
       "       [0.2625    , 0.46099291, 0.19101124, 0.2       , 0.12977099],\n",
       "       [0.3       , 0.42553191, 0.19101124, 0.25      , 0.28244275],\n",
       "       [0.29375   , 0.46808511, 0.04494382, 0.3       , 0.19083969],\n",
       "       [0.2       , 0.43755043, 0.30337079, 0.35      , 0.12977099],\n",
       "       [0.15      , 0.43755043, 0.23595506, 0.55      , 0.11450382],\n",
       "       [0.25      , 0.36170213, 0.19101124, 0.225     , 0.13740458],\n",
       "       [0.2625    , 0.45390071, 0.26966292, 0.05      , 0.39694656],\n",
       "       [0.28125   , 0.44680851, 0.15730337, 0.075     , 0.08396947],\n",
       "       [0.25625   , 0.54609929, 0.17977528, 0.1       , 0.25954198],\n",
       "       [0.225     , 0.28368794, 0.03370787, 0.1       , 0.16793893],\n",
       "       [0.31875   , 0.43755043, 0.61797753, 0.3       , 0.13740458],\n",
       "       [0.2375    , 0.35460993, 0.05617978, 0.3       , 0.2519084 ],\n",
       "       [0.28125   , 0.39716312, 0.17977528, 0.05      , 0.22900763],\n",
       "       [0.24375   , 0.34042553, 0.06741573, 0.275     , 0.28244275],\n",
       "       [0.21875   , 0.31205674, 0.15730337, 0.275     , 0.22137405],\n",
       "       [1.        , 0.17730496, 0.07865169, 0.125     , 0.17557252],\n",
       "       [0.15      , 0.21985816, 0.03370787, 0.1       , 0.12977099],\n",
       "       [0.225     , 0.4893617 , 0.16853933, 0.1       , 0.22900763],\n",
       "       [0.30625   , 0.42553191, 0.2247191 , 0.325     , 0.3129771 ],\n",
       "       [0.25625   , 0.38297872, 0.17977528, 0.125     , 0.38931298],\n",
       "       [0.3375    , 0.69503546, 0.31460674, 0.125     , 0.38167939],\n",
       "       [0.2375    , 0.31205674, 0.17977528, 0.225     , 0.35114504],\n",
       "       [0.10625   , 0.13475177, 0.02247191, 0.075     , 0.21374046],\n",
       "       [0.20625   , 0.43755043, 0.50561798, 0.325     , 0.27480916],\n",
       "       [0.20625   , 0.28368794, 0.04494382, 0.225     , 0.12977099],\n",
       "       [0.35      , 0.74468085, 0.15730337, 0.125     , 0.34351145],\n",
       "       [0.2125    , 0.34751773, 0.11235955, 0.1       , 0.16030534],\n",
       "       [0.50625   , 0.87943262, 0.30337079, 0.2       , 0.33587786],\n",
       "       [0.        , 0.        , 0.04494382, 0.        , 0.20610687],\n",
       "       [0.19375   , 0.43755043, 0.33707865, 0.425     , 0.08396947],\n",
       "       [0.3375    , 0.59574468, 0.17977528, 0.325     , 0.19083969],\n",
       "       [0.3       , 0.5106383 , 0.16853933, 0.075     , 0.32824427],\n",
       "       [0.11875   , 0.19148936, 0.08988764, 0.025     , 0.23664122],\n",
       "       [0.28125   , 0.4964539 , 0.04494382, 0.4       , 0.23664122],\n",
       "       [0.2125    , 0.26241135, 0.03370787, 0.175     , 0.26717557],\n",
       "       [0.3375    , 0.58865248, 0.17977528, 0.2       , 0.2519084 ],\n",
       "       [0.19375   , 0.21985816, 0.03370787, 0.15      , 0.22137405],\n",
       "       [0.26875   , 0.45390071, 0.08988764, 0.15      , 0.13740458],\n",
       "       [0.16875   , 0.26950355, 0.03370787, 0.45      , 0.16030534],\n",
       "       [0.29375   , 0.53191489, 0.14606742, 0.275     , 0.30534351],\n",
       "       [0.20625   , 0.34042553, 0.14606742, 0.075     , 0.29770992],\n",
       "       [0.275     , 0.46808511, 0.16853933, 0.175     , 0.30534351],\n",
       "       [0.46875   , 0.90780142, 0.15730337, 0.2       , 0.22900763],\n",
       "       [0.15625   , 0.21276596, 0.11235955, 0.075     , 0.13740458],\n",
       "       [0.38125   , 0.60992908, 0.19101124, 0.3       , 0.16793893],\n",
       "       [0.14375   , 0.19858156, 0.03370787, 0.075     , 0.09923664],\n",
       "       [0.31875   , 0.44680851, 0.28089888, 0.1       , 0.2519084 ],\n",
       "       [0.29375   , 0.4964539 , 0.3258427 , 0.075     , 0.29007634],\n",
       "       [0.25625   , 0.4893617 , 0.17977528, 0.25      , 0.13740458],\n",
       "       [0.125     , 0.17021277, 0.15730337, 0.125     , 0.15267176],\n",
       "       [0.425     , 0.75886525, 0.16853933, 0.25      , 0.14503817],\n",
       "       [0.28125   , 0.43755043, 0.59550562, 0.3       , 0.08396947],\n",
       "       [0.25625   , 0.41134752, 0.1011236 , 0.175     , 0.35114504],\n",
       "       [0.275     , 0.53191489, 0.16853933, 0.175     , 0.16030534],\n",
       "       [0.29375   , 0.4964539 , 0.17977528, 0.125     , 0.27480916],\n",
       "       [0.10625   , 0.22695035, 0.17977528, 0.2       , 0.1221374 ],\n",
       "       [0.2625    , 0.4751773 , 0.15730337, 0.1       , 0.1221374 ],\n",
       "       [0.3125    , 0.43262411, 0.20224719, 0.325     , 0.22900763],\n",
       "       [0.28125   , 0.4893617 , 0.24719101, 0.35      , 0.16030534],\n",
       "       [0.25      , 0.43262411, 0.07865169, 0.2       , 0.22900763],\n",
       "       [0.4       , 0.85106383, 0.21348315, 0.15      , 0.32061069],\n",
       "       [0.31875   , 0.4964539 , 0.17977528, 0.225     , 0.39694656],\n",
       "       [0.10625   , 0.43755043, 0.16853933, 0.375     , 0.26717557],\n",
       "       [0.25625   , 0.41843972, 0.17977528, 0.05      , 0.28244275],\n",
       "       [0.20625   , 0.34042553, 0.15730337, 0.075     , 0.26717557],\n",
       "       [0.3375    , 0.57446809, 0.16853933, 0.15      , 0.18320611],\n",
       "       [0.3125    , 0.54609929, 0.19101124, 0.325     , 0.19083969],\n",
       "       [0.2875    , 0.4893617 , 0.04494382, 0.425     , 0.44274809],\n",
       "       [0.275     , 0.35460993, 0.05617978, 0.125     , 0.15267176],\n",
       "       [0.3125    , 0.36879433, 0.25842697, 0.25      , 0.18320611],\n",
       "       [0.2625    , 0.46808511, 0.16853933, 0.25      , 0.26717557],\n",
       "       [0.3       , 0.35460993, 0.26966292, 0.475     , 1.        ],\n",
       "       [0.1875    , 0.26950355, 0.13483146, 0.075     , 0.22137405],\n",
       "       [0.10625   , 0.43755043, 0.46067416, 0.325     , 0.13740458],\n",
       "       [0.26875   , 0.42553191, 0.04494382, 0.2       , 0.17557252],\n",
       "       [0.3375    , 0.53900709, 0.15730337, 0.15      , 0.10687023],\n",
       "       [0.4375    , 0.43755043, 1.        , 1.        , 0.3129771 ],\n",
       "       [0.3875    , 0.81560284, 0.20224719, 0.425     , 0.25954198],\n",
       "       [0.2625    , 0.37588652, 0.16853933, 0.2       , 0.36641221],\n",
       "       [0.23125   , 0.35460993, 0.14606742, 0.075     , 0.36641221],\n",
       "       [0.275     , 0.4822695 , 0.17977528, 0.075     , 0.21374046],\n",
       "       [0.28125   , 0.60992908, 0.19101124, 0.175     , 0.21374046],\n",
       "       [0.28125   , 0.42553191, 0.15730337, 0.325     , 0.34351145],\n",
       "       [0.2375    , 0.53900709, 0.17977528, 0.025     , 0.20610687],\n",
       "       [0.3375    , 0.53900709, 0.30337079, 0.6       , 0.28244275],\n",
       "       [0.2125    , 0.28368794, 0.16853933, 0.325     , 0.14503817],\n",
       "       [0.4125    , 0.74468085, 0.17977528, 0.1       , 0.2519084 ],\n",
       "       [0.1       , 0.16312057, 0.05617978, 0.        , 0.15267176],\n",
       "       [0.2       , 0.25531915, 0.05617978, 0.275     , 0.25954198],\n",
       "       [0.23125   , 0.39007092, 0.16853933, 0.05      , 0.05343511],\n",
       "       [0.30625   , 0.39007092, 0.19101124, 0.125     , 0.11450382],\n",
       "       [0.19375   , 0.24822695, 0.11235955, 0.15      , 0.19847328],\n",
       "       [0.275     , 0.57446809, 0.17977528, 0.125     , 0.19847328],\n",
       "       [0.20625   , 0.30496454, 0.04494382, 0.3       , 0.19083969],\n",
       "       [0.28125   , 0.40425532, 0.28089888, 0.225     , 0.35114504],\n",
       "       [0.2125    , 0.24822695, 0.07865169, 0.1       , 0.10687023],\n",
       "       [0.41875   , 0.80851064, 0.15730337, 0.2       , 0.30534351],\n",
       "       [0.43125   , 0.58156028, 0.26966292, 0.275     , 0.40458015],\n",
       "       [0.38125   , 0.76595745, 0.19101124, 0.15      , 0.18320611],\n",
       "       [0.2       , 0.30496454, 0.1011236 , 0.2       , 0.12977099],\n",
       "       [0.28125   , 0.43262411, 0.16853933, 0.125     , 0.26717557],\n",
       "       [0.30625   , 0.4751773 , 0.19101124, 0.325     , 0.42748092],\n",
       "       [0.3       , 0.60283688, 0.17977528, 0.075     , 0.2519084 ],\n",
       "       [0.375     , 0.69503546, 0.19101124, 0.225     , 0.19847328],\n",
       "       [0.14375   , 0.23404255, 0.03370787, 0.15      , 0.12977099]])"
      ]
     },
     "execution_count": 12,
     "metadata": {},
     "output_type": "execute_result"
    }
   ],
   "source": [
    "X_test"
   ]
  },
  {
   "cell_type": "code",
   "execution_count": 13,
   "metadata": {},
   "outputs": [
    {
     "name": "stdout",
     "output_type": "stream",
     "text": [
      "[1 1 1 1 1 2 1 1 1 1 1 2 2 1 1 2 1 2 1 1 2 1 2 1 2 2 1 1 2 2 1 2 2 1 2 1 1\n",
      " 1 1 2 2 1 1 1 1 1 1 1 1 2 1 1 1 1 1 1 2 1 2 1 1 2 1 1 1 1 2 1 2 0 1 2 2 1\n",
      " 2 1 2 1 1 1 2 1 1 2 1 2 1 1 2 2 1 2 1 1 2 2 1 1 1 2 1 2 2 1 1 1 2 2 2 1 1\n",
      " 1 2 1 1 1 2 2 2 1 1 2 2 1 2 2 1 2 1 1 1 1 1 2 1 1 1 2 2 2 1 1 1 2 2 1]\n"
     ]
    }
   ],
   "source": [
    "print(y_test)"
   ]
  },
  {
   "cell_type": "markdown",
   "metadata": {},
   "source": [
    "# Membuat Fungsi LVQ FIT"
   ]
  },
  {
   "cell_type": "code",
   "execution_count": 74,
   "metadata": {},
   "outputs": [],
   "source": [
    "def lvq_fit(train, target, learn_rate, b, treshold):\n",
    "# def lvq_fit(train, target, learn_rate, b, max_epoch):\n",
    "    label, train_idx = np.unique(target, return_index=True)\n",
    "    weight = train[train_idx].astype(np.float64)\n",
    "    print(weight)\n",
    "    train = np.array([e for i, e in enumerate(zip(train, target)) if i not in train_idx], dtype=object)\n",
    "    train, target = train[:,0], train[:,1]\n",
    "    epoch = 0\n",
    "    \n",
    "    while (learn_rate > treshold) :\n",
    "    # while (epoch < max_epoch) :\n",
    "        for i, x in enumerate(train):\n",
    "            distance = [np.sqrt(sum((w-x)**2))for w in weight]\n",
    "            # print(distance)\n",
    "            min = np.argmin(distance)\n",
    "            sign = 1 if target[1] == label[min] else -1\n",
    "            weight[min] += sign * learn_rate * (x - weight[min])\n",
    "        learn_rate -= b*learn_rate\n",
    "        epoch += 1\n",
    "        print(f\"learning rate: {learn_rate}\")\n",
    "        print(f\"weight: \\n {weight} \\n\")\n",
    "    return weight, label"
   ]
  },
  {
   "cell_type": "markdown",
   "metadata": {},
   "source": [
    "# Membuat Fungsi LVQ Predict"
   ]
  },
  {
   "cell_type": "code",
   "execution_count": 15,
   "metadata": {},
   "outputs": [],
   "source": [
    "def lvq_predict(x, weight):\n",
    "    weight, label = weight\n",
    "    d = [np.sqrt(sum((w-x)**2))for w in weight]\n",
    "\n",
    "    return label[np.argmin(d)]"
   ]
  },
  {
   "cell_type": "markdown",
   "metadata": {},
   "source": [
    "# Training & Testing"
   ]
  },
  {
   "cell_type": "code",
   "execution_count": 79,
   "metadata": {},
   "outputs": [
    {
     "name": "stdout",
     "output_type": "stream",
     "text": [
      "[[0.0625     0.08510638 0.05617978 0.         0.16030534]\n",
      " [0.16875    0.23404255 0.1011236  0.05       0.3129771 ]\n",
      " [0.35       0.67375887 0.16853933 0.425      0.23664122]]\n",
      "learning rate: 0.006\n",
      "weight: \n",
      " [[ 0.05729057  0.07244871  0.05714916 -0.01699087  0.15750871]\n",
      " [ 0.22850098  0.37210022  0.1558914   0.14244187  0.24104969]\n",
      " [ 0.3759979   0.76183412  0.10919959  0.48843366  0.24366836]] \n",
      "\n",
      "learning rate: 0.0036\n",
      "weight: \n",
      " [[ 0.05172092  0.06002714  0.05755623 -0.03175434  0.15461728]\n",
      " [ 0.24919085  0.41930456  0.17490109  0.1782383   0.2270757 ]\n",
      " [ 0.37945568  0.78150402  0.08506304  0.49718992  0.24400756]] \n",
      "\n",
      "learning rate: 0.0021599999999999996\n",
      "weight: \n",
      " [[ 0.04751723  0.05031399  0.05758107 -0.04213637  0.15176305]\n",
      " [ 0.25569361  0.43248924  0.18161516  0.19186948  0.22393557]\n",
      " [ 0.3808146   0.78925482  0.07427988  0.50279605  0.24406223]] \n",
      "\n",
      "learning rate: 0.0012959999999999998\n",
      "weight: \n",
      " [[ 0.04454213  0.04370349  0.0575015  -0.04913379  0.14973912]\n",
      " [ 0.25855479  0.43814071  0.18477592  0.19845215  0.22309317]\n",
      " [ 0.38136373  0.79275982  0.06888427  0.50586602  0.24400385]] \n",
      "\n",
      "learning rate: 0.0007775999999999999\n",
      "weight: \n",
      " [[ 0.04284632  0.03978978  0.0575118  -0.05331804  0.14858942]\n",
      " [ 0.2597619   0.44053612  0.18594732  0.2014132   0.22285001]\n",
      " [ 0.38161173  0.79472734  0.06556683  0.50748819  0.24394847]] \n",
      "\n",
      "prediksi: \n",
      "[1, 0, 1, 0, 0, 1, 1, 1, 1, 1, 1, 1, 1, 1, 1, 1, 1, 1, 1, 1, 1, 1, 2, 1, 1, 2, 1, 1, 1, 1, 1, 1, 1, 0, 1, 1, 1, 1, 1, 1, 1, 1, 1, 1, 1, 1, 1, 1, 1, 1, 1, 1, 1, 1, 1, 1, 1, 0, 1, 1, 1, 1, 1, 0, 1, 1, 1, 1, 2, 0, 1, 1, 1, 0, 1, 1, 1, 1, 1, 1, 1, 1, 1, 2, 0, 1, 0, 1, 1, 1, 0, 2, 1, 1, 1, 1, 1, 1, 1, 1, 1, 2, 1, 1, 1, 1, 1, 1, 1, 1, 1, 1, 1, 1, 1, 1, 1, 2, 2, 1, 1, 1, 1, 1, 1, 2, 1, 1, 0, 1, 1, 1, 1, 1, 1, 1, 1, 2, 1, 1, 1, 1, 1, 1, 1, 0]\n"
     ]
    }
   ],
   "source": [
    "train = X_train\n",
    "target = y_train\n",
    "\n",
    "weight = lvq_fit(train, target, learn_rate=0.01, b=0.5, treshold=0.001)\n",
    "# weight = lvq_fit(train, target, learn_rate=0.1, b=0.4, max_epoch=100, treshold=0.0001)\n",
    "\n",
    "y_pred = list()\n",
    "for x in X_test:\n",
    "    output = lvq_predict(x, weight)\n",
    "    y_pred.append(output)\n",
    "\n",
    "\n",
    "print(f\"prediksi: \\n{y_pred}\")"
   ]
  },
  {
   "cell_type": "markdown",
   "metadata": {},
   "source": [
    "# Menghitung Akurasi"
   ]
  },
  {
   "cell_type": "code",
   "execution_count": 80,
   "metadata": {},
   "outputs": [
    {
     "data": {
      "image/png": "[encoded data removed]",
      "text/plain": [
       "<Figure size 576x360 with 2 Axes>"
      ]
     },
     "metadata": {
      "needs_background": "light"
     },
     "output_type": "display_data"
    }
   ],
   "source": [
    "confusion_matrix(y_test,y_pred)\n",
    "\n",
    "f, ax = plt.subplots(figsize=(8,5))\n",
    "sns.heatmap(confusion_matrix(y_test, y_pred), annot=True, fmt=\".0f\", ax=ax)\n",
    "plt.xlabel(\"y_pred\")\n",
    "plt.ylabel(\"y_true\")\n",
    "plt.show()"
   ]
  },
  {
   "cell_type": "code",
   "execution_count": 81,
   "metadata": {},
   "outputs": [
    {
     "name": "stdout",
     "output_type": "stream",
     "text": [
      "              precision    recall  f1-score   support\n",
      "\n",
      "           0       0.08      1.00      0.14         1\n",
      "           1       0.63      0.87      0.73        90\n",
      "           2       1.00      0.18      0.31        55\n",
      "\n",
      "    accuracy                           0.61       146\n",
      "   macro avg       0.57      0.68      0.39       146\n",
      "weighted avg       0.77      0.61      0.57       146\n",
      "\n"
     ]
    }
   ],
   "source": [
    "print(classification_report(y_test, y_pred))"
   ]
  },
  {
   "cell_type": "code",
   "execution_count": null,
   "metadata": {},
   "outputs": [],
   "source": []
  }
 ],
 "metadata": {
  "kernelspec": {
   "display_name": "Python 3.10.4 ('Env': venv)",
   "language": "python",
   "name": "python3"
  },
  "language_info": {
   "codemirror_mode": {
    "name": "ipython",
    "version": 3
   },
   "file_extension": ".py",
   "mimetype": "text/x-python",
   "name": "python",
   "nbconvert_exporter": "python",
   "pygments_lexer": "ipython3",
   "version": "3.10.4"
  },
  "orig_nbformat": 4,
  "vscode": {
   "interpreter": {
    "hash": "14e64c73cb0b49637867f073f01b7b58521dbbb589ef99a96d5d0f71c583974c"
   }
  }
 },
 "nbformat": 4,
 "nbformat_minor": 2
}
